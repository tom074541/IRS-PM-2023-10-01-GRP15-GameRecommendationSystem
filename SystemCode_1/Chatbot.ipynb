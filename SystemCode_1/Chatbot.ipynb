{
 "cells": [
  {
   "cell_type": "code",
   "execution_count": 1,
   "id": "975ce15c",
   "metadata": {},
   "outputs": [
    {
     "name": "stderr",
     "output_type": "stream",
     "text": [
      "[nltk_data] Downloading package punkt to\n",
      "[nltk_data]     C:\\Users\\19928\\AppData\\Roaming\\nltk_data...\n",
      "[nltk_data]   Package punkt is already up-to-date!\n"
     ]
    },
    {
     "data": {
      "text/plain": [
       "True"
      ]
     },
     "execution_count": 1,
     "metadata": {},
     "output_type": "execute_result"
    }
   ],
   "source": [
    "import numpy as np\n",
    "import nltk\n",
    "import random\n",
    "import string\n",
    "import sklearn\n",
    "from sklearn.feature_extraction import text\n",
    "from sklearn.feature_extraction.text import TfidfVectorizer\n",
    "from sklearn.metrics.pairwise import cosine_similarity\n",
    "nltk.download('punkt')"
   ]
  },
  {
   "cell_type": "code",
   "execution_count": 9,
   "id": "16013b82",
   "metadata": {},
   "outputs": [
    {
     "data": {
      "text/plain": [
       "(6, 2)"
      ]
     },
     "execution_count": 9,
     "metadata": {},
     "output_type": "execute_result"
    }
   ],
   "source": [
    "import pandas\n",
    "faq = pandas.read_csv(\"Service.txt\", delimiter=\"\\t\", header=None, names=[\"Q\", \"A\"], encoding='iso-8859-1')\n",
    "faq.shape"
   ]
  },
  {
   "cell_type": "code",
   "execution_count": 10,
   "id": "7b735f99",
   "metadata": {},
   "outputs": [
    {
     "data": {
      "text/html": [
       "<div>\n",
       "<style scoped>\n",
       "    .dataframe tbody tr th:only-of-type {\n",
       "        vertical-align: middle;\n",
       "    }\n",
       "\n",
       "    .dataframe tbody tr th {\n",
       "        vertical-align: top;\n",
       "    }\n",
       "\n",
       "    .dataframe thead th {\n",
       "        text-align: right;\n",
       "    }\n",
       "</style>\n",
       "<table border=\"1\" class=\"dataframe\">\n",
       "  <thead>\n",
       "    <tr style=\"text-align: right;\">\n",
       "      <th></th>\n",
       "      <th>Q</th>\n",
       "      <th>A</th>\n",
       "    </tr>\n",
       "  </thead>\n",
       "  <tbody>\n",
       "    <tr>\n",
       "      <th>0</th>\n",
       "      <td>What is the theory behind the recommendaton?</td>\n",
       "      <td>Item-based recommendation theory is employed, ...</td>\n",
       "    </tr>\n",
       "    <tr>\n",
       "      <th>1</th>\n",
       "      <td>How to use the game recommendation system?</td>\n",
       "      <td>Simply input your favourite game or preferred ...</td>\n",
       "    </tr>\n",
       "    <tr>\n",
       "      <th>2</th>\n",
       "      <td>How many games are included in recommendation ...</td>\n",
       "      <td>There are more than 18,000 games pulished betw...</td>\n",
       "    </tr>\n",
       "    <tr>\n",
       "      <th>3</th>\n",
       "      <td>Can you recommend some good games to me?</td>\n",
       "      <td>Sure, games like Starfield, Chants of Sennaar ...</td>\n",
       "    </tr>\n",
       "    <tr>\n",
       "      <th>4</th>\n",
       "      <td>Where can I download the recommended games?</td>\n",
       "      <td>All the games are available to download in Ste...</td>\n",
       "    </tr>\n",
       "    <tr>\n",
       "      <th>5</th>\n",
       "      <td>Why does the system go wrong?</td>\n",
       "      <td>Apologies, Maybe you could check if the App is...</td>\n",
       "    </tr>\n",
       "  </tbody>\n",
       "</table>\n",
       "</div>"
      ],
      "text/plain": [
       "                                                   Q  \\\n",
       "0       What is the theory behind the recommendaton?   \n",
       "1         How to use the game recommendation system?   \n",
       "2  How many games are included in recommendation ...   \n",
       "3           Can you recommend some good games to me?   \n",
       "4        Where can I download the recommended games?   \n",
       "5                      Why does the system go wrong?   \n",
       "\n",
       "                                                   A  \n",
       "0  Item-based recommendation theory is employed, ...  \n",
       "1  Simply input your favourite game or preferred ...  \n",
       "2  There are more than 18,000 games pulished betw...  \n",
       "3  Sure, games like Starfield, Chants of Sennaar ...  \n",
       "4  All the games are available to download in Ste...  \n",
       "5  Apologies, Maybe you could check if the App is...  "
      ]
     },
     "execution_count": 10,
     "metadata": {},
     "output_type": "execute_result"
    }
   ],
   "source": [
    "faq"
   ]
  },
  {
   "cell_type": "code",
   "execution_count": 11,
   "id": "a57ecee7",
   "metadata": {},
   "outputs": [
    {
     "data": {
      "text/plain": [
       "(6, 30)"
      ]
     },
     "execution_count": 11,
     "metadata": {},
     "output_type": "execute_result"
    }
   ],
   "source": [
    "qns = faq[\"Q\"]\n",
    "answers = faq[\"A\"]\n",
    "TfidfVec = TfidfVectorizer()\n",
    "tfidf = TfidfVec.fit_transform(qns)\n",
    "tfidf.shape"
   ]
  },
  {
   "cell_type": "code",
   "execution_count": 17,
   "id": "a6c89962",
   "metadata": {},
   "outputs": [],
   "source": [
    "#the basic chatbot\n",
    "#prepare some greeting words\n",
    "GREETING_INPUTS = (\"hello\", \"hi\", \"greetings\", \"sup\", \"what's up\",\"hey\",)\n",
    "GREETING_RESPONSES = [\"hi\", \"hey\", \"*nods*\", \"hi there\", \"hello\", \"I am glad! You are talking to me\"]\n",
    "def greeting(sentence):\n",
    "    for word in sentence.split():\n",
    "        if word.lower() in GREETING_INPUTS:\n",
    "            return random.choice(GREETING_RESPONSES)\n",
    "\n",
    "\n",
    "# function to match input to the preprocessed sentences\n",
    "def response(user_response):\n",
    "    robo_response = ''\n",
    "    Q = ''\n",
    "    A = ''\n",
    "    new = TfidfVec.transform([user_response]) #vectorize the input to the same dimension space\n",
    "    vals = cosine_similarity(new[0], tfidf)\n",
    "    flat = vals.flatten()\n",
    "    idx = flat.argsort()[-1]\n",
    "    sim_max = flat[idx]\n",
    "    if(sim_max<=0.2):\n",
    "        robo_response = \"I am sorry! I don't have answer for that.\"\n",
    "        return robo_response, Q, sim_max, A\n",
    "       # return robo_response\n",
    "    else:\n",
    "        robo_response = \"Similar question found!\"\n",
    "        Q = qns[idx]\n",
    "        A = \"Ans: \"+answers[idx]\n",
    "        return robo_response, Q, sim_max, A\n",
    "        #return robo_response, A\n",
    "\n",
    "def say(robo_response, Q, score, A):\n",
    "  #print(robo_response)\n",
    "  #print(Q + ' (' + str(score) + \")\")\n",
    "  print(A)\n",
    "  return A\n"
   ]
  },
  {
   "cell_type": "code",
   "execution_count": 19,
   "id": "b36cee48",
   "metadata": {},
   "outputs": [
    {
     "name": "stdout",
     "output_type": "stream",
     "text": [
      "Ans: Sure, games like Starfield, Chants of Sennaar and Citizen Sleeper: Purge have high rates which suggests they are worth playing. For more personalized recommendation, please enter your favourite game or preferred genre.\n"
     ]
    },
    {
     "data": {
      "text/plain": [
       "'Ans: Sure, games like Starfield, Chants of Sennaar and Citizen Sleeper: Purge have high rates which suggests they are worth playing. For more personalized recommendation, please enter your favourite game or preferred genre.'"
      ]
     },
     "execution_count": 19,
     "metadata": {},
     "output_type": "execute_result"
    }
   ],
   "source": [
    "say(*response(\"Can you give me some recommendations?\"))"
   ]
  },
  {
   "cell_type": "code",
   "execution_count": 20,
   "id": "dc0100c7",
   "metadata": {},
   "outputs": [
    {
     "name": "stdout",
     "output_type": "stream",
     "text": [
      "Bill: My name is Bill. I am the Service bot for this recommendation system, if you have any questions, please feel free to ask. If you want to end the conversation, type Bye!\n",
      "Can you give me some recommendations\n",
      "Bill: Ans: Sure, games like Starfield, Chants of Sennaar and Citizen Sleeper: Purge have high rates which suggests they are worth playing. For more personalized recommendation, please enter your favourite game or preferred genre.\n",
      "bye\n",
      "Bill: Bye! take care...\n"
     ]
    }
   ],
   "source": [
    "#starting the bot\n",
    "flag=True\n",
    "print(\"Bill: My name is Bill. I am the Service bot for this recommendation system, if you have any questions, please feel free to ask. If you want to end the conversation, type Bye!\")\n",
    "while(flag==True):\n",
    "    user_response = input()\n",
    "    user_response=user_response.lower()\n",
    "    if(user_response.lower() !='bye'):\n",
    "        if(user_response=='thanks' or user_response=='thank you' ):\n",
    "            flag=False\n",
    "            print(\"Bill: You are welcome..\")\n",
    "        else:\n",
    "            if(greeting(user_response)!=None):\n",
    "                print(\"Bill: \"+greeting(user_response))\n",
    "            else:\n",
    "                print(\"Bill: \",end=\"\")\n",
    "                say(*response(user_response))\n",
    "    else:\n",
    "        flag=False\n",
    "        print(\"Bill: Bye! take care...\")"
   ]
  },
  {
   "cell_type": "code",
   "execution_count": null,
   "id": "ab3c4a02",
   "metadata": {},
   "outputs": [],
   "source": []
  }
 ],
 "metadata": {
  "kernelspec": {
   "display_name": "Python 3 (ipykernel)",
   "language": "python",
   "name": "python3"
  },
  "language_info": {
   "codemirror_mode": {
    "name": "ipython",
    "version": 3
   },
   "file_extension": ".py",
   "mimetype": "text/x-python",
   "name": "python",
   "nbconvert_exporter": "python",
   "pygments_lexer": "ipython3",
   "version": "3.10.12"
  }
 },
 "nbformat": 4,
 "nbformat_minor": 5
}
