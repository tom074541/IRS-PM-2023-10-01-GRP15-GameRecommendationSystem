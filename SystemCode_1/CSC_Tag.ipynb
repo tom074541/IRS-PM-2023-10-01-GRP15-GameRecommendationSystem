{
 "cells": [
  {
   "cell_type": "code",
   "execution_count": 5,
   "id": "1baff12d",
   "metadata": {},
   "outputs": [],
   "source": [
    "import pandas as pd\n",
    "import pickle"
   ]
  },
  {
   "cell_type": "code",
   "execution_count": 6,
   "id": "df1e1f84",
   "metadata": {},
   "outputs": [
    {
     "data": {
      "text/html": [
       "<div>\n",
       "<style scoped>\n",
       "    .dataframe tbody tr th:only-of-type {\n",
       "        vertical-align: middle;\n",
       "    }\n",
       "\n",
       "    .dataframe tbody tr th {\n",
       "        vertical-align: top;\n",
       "    }\n",
       "\n",
       "    .dataframe thead th {\n",
       "        text-align: right;\n",
       "    }\n",
       "</style>\n",
       "<table border=\"1\" class=\"dataframe\">\n",
       "  <thead>\n",
       "    <tr style=\"text-align: right;\">\n",
       "      <th></th>\n",
       "      <th>AppID</th>\n",
       "      <th>Name</th>\n",
       "      <th>About the game</th>\n",
       "      <th>Categories</th>\n",
       "      <th>Genres</th>\n",
       "      <th>Tags</th>\n",
       "    </tr>\n",
       "  </thead>\n",
       "  <tbody>\n",
       "    <tr>\n",
       "      <th>0</th>\n",
       "      <td>2525270</td>\n",
       "      <td>The House</td>\n",
       "      <td>' The House ' is a short psychological horror ...</td>\n",
       "      <td>Single-player,Steam Workshop</td>\n",
       "      <td>Adventure,Casual,Indie</td>\n",
       "      <td>Adventure,Casual,Action-Adventure,Walking Simu...</td>\n",
       "    </tr>\n",
       "    <tr>\n",
       "      <th>1</th>\n",
       "      <td>2414640</td>\n",
       "      <td>Bite Size Terrors: Erobos Heaven</td>\n",
       "      <td>Bite Size Terrors: Are Short Experimental Horr...</td>\n",
       "      <td>Single-player,Steam Achievements</td>\n",
       "      <td>Adventure,Indie</td>\n",
       "      <td>Horror,Adventure,Atmospheric,Psychological Hor...</td>\n",
       "    </tr>\n",
       "    <tr>\n",
       "      <th>2</th>\n",
       "      <td>2486670</td>\n",
       "      <td>TD Tower Defense</td>\n",
       "      <td>Td Tower Defense is a fun tower defense shoote...</td>\n",
       "      <td>Single-player</td>\n",
       "      <td>Action,Casual</td>\n",
       "      <td>Tower Defense,Casual,Sci-fi,Strategy,Combat,Re...</td>\n",
       "    </tr>\n",
       "    <tr>\n",
       "      <th>3</th>\n",
       "      <td>2304650</td>\n",
       "      <td>The Scrap</td>\n",
       "      <td>The Scrap is an independent third-person shoot...</td>\n",
       "      <td>Single-player,Steam Achievements</td>\n",
       "      <td>Action,Adventure,Indie</td>\n",
       "      <td>Action,Shooter,Third-Person Shooter,3D,Third P...</td>\n",
       "    </tr>\n",
       "    <tr>\n",
       "      <th>4</th>\n",
       "      <td>2519670</td>\n",
       "      <td>Wind Love</td>\n",
       "      <td>Gameplay Wind Love - is a Japanese-style visua...</td>\n",
       "      <td>Single-player,Steam Achievements,Captions avai...</td>\n",
       "      <td>Indie,Simulation</td>\n",
       "      <td>Hentai,Adventure,Dating Sim,Casual,Choices Mat...</td>\n",
       "    </tr>\n",
       "  </tbody>\n",
       "</table>\n",
       "</div>"
      ],
      "text/plain": [
       "     AppID                              Name  \\\n",
       "0  2525270                         The House   \n",
       "1  2414640  Bite Size Terrors: Erobos Heaven   \n",
       "2  2486670                  TD Tower Defense   \n",
       "3  2304650                         The Scrap   \n",
       "4  2519670                         Wind Love   \n",
       "\n",
       "                                      About the game  \\\n",
       "0  ' The House ' is a short psychological horror ...   \n",
       "1  Bite Size Terrors: Are Short Experimental Horr...   \n",
       "2  Td Tower Defense is a fun tower defense shoote...   \n",
       "3  The Scrap is an independent third-person shoot...   \n",
       "4  Gameplay Wind Love - is a Japanese-style visua...   \n",
       "\n",
       "                                          Categories                  Genres  \\\n",
       "0                       Single-player,Steam Workshop  Adventure,Casual,Indie   \n",
       "1                   Single-player,Steam Achievements         Adventure,Indie   \n",
       "2                                      Single-player           Action,Casual   \n",
       "3                   Single-player,Steam Achievements  Action,Adventure,Indie   \n",
       "4  Single-player,Steam Achievements,Captions avai...        Indie,Simulation   \n",
       "\n",
       "                                                Tags  \n",
       "0  Adventure,Casual,Action-Adventure,Walking Simu...  \n",
       "1  Horror,Adventure,Atmospheric,Psychological Hor...  \n",
       "2  Tower Defense,Casual,Sci-fi,Strategy,Combat,Re...  \n",
       "3  Action,Shooter,Third-Person Shooter,3D,Third P...  \n",
       "4  Hentai,Adventure,Dating Sim,Casual,Choices Mat...  "
      ]
     },
     "execution_count": 6,
     "metadata": {},
     "output_type": "execute_result"
    }
   ],
   "source": [
    "games_data=pd.read_csv('C:/Users/19928/Desktop/Projects/Project-1/Code/game.csv')\n",
    "games_data.head()"
   ]
  },
  {
   "cell_type": "code",
   "execution_count": 8,
   "id": "6b495151",
   "metadata": {},
   "outputs": [],
   "source": [
    "games_data=games_data[['AppID','Name','Genres']]"
   ]
  },
  {
   "cell_type": "code",
   "execution_count": 9,
   "id": "1e2b8b26",
   "metadata": {},
   "outputs": [],
   "source": [
    "#Natural language processing\n",
    "#通过Genres来推荐游戏\n",
    "new_games_data=pd.DataFrame(games_data)\n",
    "#字符串按空格进行分割\n",
    "new_games_data['Genres']=new_games_data['Genres'].apply(lambda x:x.split())\n",
    "#移除Genres中的空格\n",
    "new_games_data['Genres']=new_games_data['Genres'].apply(lambda x:[i.replace(\" \",\"\") for i in x])\n",
    "#形成新Dataframe\n",
    "new_df=new_games_data[['AppID','Name','Genres']]\n",
    "#小写并通过空格连接\n",
    "new_df['Genres']=new_df['Genres'].apply(lambda x:\" \".join(x))\n",
    "new_df['Genres']=new_df['Genres'].apply(lambda x:x.lower())\n",
    "#词干提取\n",
    "from nltk.stem.porter import PorterStemmer\n",
    "ps= PorterStemmer()\n",
    "def stem(text):\n",
    "  y=[]\n",
    "  for i in text.split():\n",
    "    y.append(ps.stem(i))\n",
    "  return \" \".join(y)\n",
    "new_df['Genres']=new_df['Genres'].apply(stem)"
   ]
  },
  {
   "cell_type": "code",
   "execution_count": 11,
   "id": "ac1d952f",
   "metadata": {},
   "outputs": [
    {
     "name": "stdout",
     "output_type": "stream",
     "text": [
      "(18560, 54)\n"
     ]
    }
   ],
   "source": [
    "#计数向量,每个单词在每一个Genres字段是否出现，是：1，否;0\n",
    "from sklearn.feature_extraction.text import CountVectorizer\n",
    "cv=CountVectorizer(max_features=100,stop_words='english')\n",
    "vectors=cv.fit_transform(new_df['Genres']).toarray()\n",
    "print(vectors.shape)\n",
    "#Genres共54个"
   ]
  },
  {
   "cell_type": "code",
   "execution_count": 54,
   "id": "a4db3c9f",
   "metadata": {},
   "outputs": [],
   "source": [
    "from sklearn.metrics.pairwise import euclidean_distances\n",
    "def recommend_genre(genre):\n",
    "    #标准化输入\n",
    "    genre = cv.transform([genre]).toarray()\n",
    "    #计算距离\n",
    "    distances=[]\n",
    "    for i in range(18560):\n",
    "        a=vectors[i,:]\n",
    "        a=a.reshape(1, -1)\n",
    "        distance = euclidean_distances(genre,a)\n",
    "        distances.append((distance, i))\n",
    "    #计算最小的五个距离\n",
    "    distances = sorted(distances, key=lambda x: x[0]) \n",
    "    min_distances = distances[:5]\n",
    "    #相应index\n",
    "    min_indexes = [idx for _, idx in min_distances]\n",
    "    #print出对应游戏名\n",
    "    for idx in min_indexes:\n",
    "        movie_name = new_df.iloc[idx, 1] \n",
    "        print(movie_name)"
   ]
  },
  {
   "cell_type": "code",
   "execution_count": 58,
   "id": "c98823ae",
   "metadata": {},
   "outputs": [],
   "source": [
    "save_path = 'C:/Users/19928/Desktop/Projects/Project-1/Code/recommend_genre.pkl'\n",
    "pickle.dump(recommend_genre, open(save_path, 'wb'))\n",
    "save_path = 'C:/Users/19928/Desktop/Projects/Project-1/Code/vectors.pkl'\n",
    "pickle.dump(vectors, open(save_path, 'wb'))\n",
    "save_path = 'C:/Users/19928/Desktop/Projects/Project-1/Code/cv.pkl'\n",
    "pickle.dump(cv, open(save_path, 'wb'))"
   ]
  },
  {
   "cell_type": "code",
   "execution_count": 18,
   "id": "894a0e21",
   "metadata": {},
   "outputs": [
    {
     "name": "stdout",
     "output_type": "stream",
     "text": [
      "1\n"
     ]
    }
   ],
   "source": []
  },
  {
   "cell_type": "code",
   "execution_count": 52,
   "id": "a642ab78",
   "metadata": {},
   "outputs": [],
   "source": [
    "\n"
   ]
  },
  {
   "cell_type": "code",
   "execution_count": 55,
   "id": "bfc98351",
   "metadata": {},
   "outputs": [
    {
     "name": "stdout",
     "output_type": "stream",
     "text": [
      "Super Space Club\n",
      "Nebula's Descent\n",
      "Sclash\n",
      "KAGITORI -BIRD IN THE CAGE HIDING THE KEY-\n",
      "PLONG\n"
     ]
    }
   ],
   "source": [
    "recommend_genre(\"action,casual\")"
   ]
  },
  {
   "cell_type": "code",
   "execution_count": null,
   "id": "db6d4ab6",
   "metadata": {},
   "outputs": [],
   "source": []
  }
 ],
 "metadata": {
  "kernelspec": {
   "display_name": "Python 3 (ipykernel)",
   "language": "python",
   "name": "python3"
  },
  "language_info": {
   "codemirror_mode": {
    "name": "ipython",
    "version": 3
   },
   "file_extension": ".py",
   "mimetype": "text/x-python",
   "name": "python",
   "nbconvert_exporter": "python",
   "pygments_lexer": "ipython3",
   "version": "3.10.12"
  }
 },
 "nbformat": 4,
 "nbformat_minor": 5
}
