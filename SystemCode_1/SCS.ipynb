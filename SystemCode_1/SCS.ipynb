{
 "cells": [
  {
   "cell_type": "code",
   "execution_count": 1,
   "id": "8e7ffbbf",
   "metadata": {},
   "outputs": [
    {
     "name": "stdout",
     "output_type": "stream",
     "text": [
      "         AppID                              Name  \\\n",
      "0      2525270                         The House   \n",
      "1      2414640  Bite Size Terrors: Erobos Heaven   \n",
      "2      2486670                  TD Tower Defense   \n",
      "3      2304650                         The Scrap   \n",
      "4      2519670                         Wind Love   \n",
      "...        ...                               ...   \n",
      "18555  1150090                  Learning Factory   \n",
      "18556  1444570                  Fantasy Royal VR   \n",
      "18557  1269950              Buddy Simulator 1984   \n",
      "18558  1540140                   Tower of Portal   \n",
      "18559  1533750  小小精灵塔防(Little elf tower defense)   \n",
      "\n",
      "                                          About the game  \\\n",
      "0      ' The House ' is a short psychological horror ...   \n",
      "1      Bite Size Terrors: Are Short Experimental Horr...   \n",
      "2      Td Tower Defense is a fun tower defense shoote...   \n",
      "3      The Scrap is an independent third-person shoot...   \n",
      "4      Gameplay Wind Love - is a Japanese-style visua...   \n",
      "...                                                  ...   \n",
      "18555  Learning Factory is a relaxing automation game...   \n",
      "18556  Note: This game is very much alpha. All featur...   \n",
      "18557  Have you ever felt lonely? Like you wanted som...   \n",
      "18558  Tower of Portal is a little Indie FPS Shooter,...   \n",
      "18559  'Little elf tower defense' is a tower defense ...   \n",
      "\n",
      "                                              Categories  \\\n",
      "0                           Single-player,Steam Workshop   \n",
      "1                       Single-player,Steam Achievements   \n",
      "2                                          Single-player   \n",
      "3                       Single-player,Steam Achievements   \n",
      "4      Single-player,Steam Achievements,Captions avai...   \n",
      "...                                                  ...   \n",
      "18555  Single-player,Steam Achievements,Steam Trading...   \n",
      "18556                                      Single-player   \n",
      "18557  Single-player,Steam Achievements,Steam Trading...   \n",
      "18558                                      Single-player   \n",
      "18559                                      Single-player   \n",
      "\n",
      "                                       Genres  \\\n",
      "0                      Adventure,Casual,Indie   \n",
      "1                             Adventure,Indie   \n",
      "2                               Action,Casual   \n",
      "3                      Action,Adventure,Indie   \n",
      "4                            Indie,Simulation   \n",
      "...                                       ...   \n",
      "18555  Indie,Simulation,Strategy,Early Access   \n",
      "18556                                Strategy   \n",
      "18557   Adventure,Casual,Indie,RPG,Simulation   \n",
      "18558                            Action,Indie   \n",
      "18559                         Casual,Strategy   \n",
      "\n",
      "                                                    Tags  \n",
      "0      Adventure,Casual,Action-Adventure,Walking Simu...  \n",
      "1      Horror,Adventure,Atmospheric,Psychological Hor...  \n",
      "2      Tower Defense,Casual,Sci-fi,Strategy,Combat,Re...  \n",
      "3      Action,Shooter,Third-Person Shooter,3D,Third P...  \n",
      "4      Hentai,Adventure,Dating Sim,Casual,Choices Mat...  \n",
      "...                                                  ...  \n",
      "18555  Resource Management,Automation,Base-Building,C...  \n",
      "18556  Strategy,RTS,Real Time Tactics,Sci-fi,Singlepl...  \n",
      "18557  Indie,Psychological Horror,Horror,Story Rich,R...  \n",
      "18558  Action,Indie,Shooter,FPS,3D,Futuristic,PvE,Sin...  \n",
      "18559  Strategy,Casual,Tower Defense,Singleplayer,Str...  \n",
      "\n",
      "[18560 rows x 6 columns]\n"
     ]
    }
   ],
   "source": [
    "import pickle\n",
    "\n",
    "# 加载.pkl文件\n",
    "with open('game_data.pkl', 'rb') as f:\n",
    "    data = pickle.load(f)\n",
    "\n",
    "# 打印加载的数据\n",
    "print(data)"
   ]
  },
  {
   "cell_type": "code",
   "execution_count": 2,
   "id": "29780c33",
   "metadata": {},
   "outputs": [],
   "source": [
    "import pandas as pd\n",
    "import numpy as np\n",
    "import os\n",
    "import pickle"
   ]
  },
  {
   "cell_type": "code",
   "execution_count": 3,
   "id": "1a94dfa4",
   "metadata": {},
   "outputs": [],
   "source": [
    "# Data acquire: Kaggle"
   ]
  },
  {
   "cell_type": "code",
   "execution_count": 4,
   "id": "da9ab879",
   "metadata": {},
   "outputs": [
    {
     "ename": "PermissionError",
     "evalue": "[Errno 13] Permission denied: 'C:/Users/19928/Desktop/Projects/Project-1/Code/game.csv'",
     "output_type": "error",
     "traceback": [
      "\u001b[1;31m---------------------------------------------------------------------------\u001b[0m",
      "\u001b[1;31mPermissionError\u001b[0m                           Traceback (most recent call last)",
      "\u001b[1;32mc:\\Users\\19928\\Desktop\\Projects\\Project-1\\Code\\SCS.ipynb Cell 4\u001b[0m line \u001b[0;36m7\n\u001b[0;32m      <a href='vscode-notebook-cell:/c%3A/Users/19928/Desktop/Projects/Project-1/Code/SCS.ipynb#W3sZmlsZQ%3D%3D?line=3'>4</a>\u001b[0m data \u001b[39m=\u001b[39m pd\u001b[39m.\u001b[39mread_pickle(\u001b[39m'\u001b[39m\u001b[39mC:/Users/19928/Desktop/Projects/Project-1/Code/game_data.pkl\u001b[39m\u001b[39m'\u001b[39m)\n\u001b[0;32m      <a href='vscode-notebook-cell:/c%3A/Users/19928/Desktop/Projects/Project-1/Code/SCS.ipynb#W3sZmlsZQ%3D%3D?line=5'>6</a>\u001b[0m \u001b[39m# Write the data from the pkl file to the csv file\u001b[39;00m\n\u001b[1;32m----> <a href='vscode-notebook-cell:/c%3A/Users/19928/Desktop/Projects/Project-1/Code/SCS.ipynb#W3sZmlsZQ%3D%3D?line=6'>7</a>\u001b[0m data\u001b[39m.\u001b[39;49mto_csv(\u001b[39m'\u001b[39;49m\u001b[39mC:/Users/19928/Desktop/Projects/Project-1/Code/game.csv\u001b[39;49m\u001b[39m'\u001b[39;49m, index\u001b[39m=\u001b[39;49m\u001b[39mFalse\u001b[39;49;00m, encoding\u001b[39m=\u001b[39;49m\u001b[39m'\u001b[39;49m\u001b[39mutf-8-sig\u001b[39;49m\u001b[39m'\u001b[39;49m)\n",
      "File \u001b[1;32mc:\\Users\\19928\\Desktop\\Anaconda\\envs\\Workshop_1\\lib\\site-packages\\pandas\\core\\generic.py:3772\u001b[0m, in \u001b[0;36mNDFrame.to_csv\u001b[1;34m(self, path_or_buf, sep, na_rep, float_format, columns, header, index, index_label, mode, encoding, compression, quoting, quotechar, lineterminator, chunksize, date_format, doublequote, escapechar, decimal, errors, storage_options)\u001b[0m\n\u001b[0;32m   3761\u001b[0m df \u001b[39m=\u001b[39m \u001b[39mself\u001b[39m \u001b[39mif\u001b[39;00m \u001b[39misinstance\u001b[39m(\u001b[39mself\u001b[39m, ABCDataFrame) \u001b[39melse\u001b[39;00m \u001b[39mself\u001b[39m\u001b[39m.\u001b[39mto_frame()\n\u001b[0;32m   3763\u001b[0m formatter \u001b[39m=\u001b[39m DataFrameFormatter(\n\u001b[0;32m   3764\u001b[0m     frame\u001b[39m=\u001b[39mdf,\n\u001b[0;32m   3765\u001b[0m     header\u001b[39m=\u001b[39mheader,\n\u001b[1;32m   (...)\u001b[0m\n\u001b[0;32m   3769\u001b[0m     decimal\u001b[39m=\u001b[39mdecimal,\n\u001b[0;32m   3770\u001b[0m )\n\u001b[1;32m-> 3772\u001b[0m \u001b[39mreturn\u001b[39;00m DataFrameRenderer(formatter)\u001b[39m.\u001b[39;49mto_csv(\n\u001b[0;32m   3773\u001b[0m     path_or_buf,\n\u001b[0;32m   3774\u001b[0m     lineterminator\u001b[39m=\u001b[39;49mlineterminator,\n\u001b[0;32m   3775\u001b[0m     sep\u001b[39m=\u001b[39;49msep,\n\u001b[0;32m   3776\u001b[0m     encoding\u001b[39m=\u001b[39;49mencoding,\n\u001b[0;32m   3777\u001b[0m     errors\u001b[39m=\u001b[39;49merrors,\n\u001b[0;32m   3778\u001b[0m     compression\u001b[39m=\u001b[39;49mcompression,\n\u001b[0;32m   3779\u001b[0m     quoting\u001b[39m=\u001b[39;49mquoting,\n\u001b[0;32m   3780\u001b[0m     columns\u001b[39m=\u001b[39;49mcolumns,\n\u001b[0;32m   3781\u001b[0m     index_label\u001b[39m=\u001b[39;49mindex_label,\n\u001b[0;32m   3782\u001b[0m     mode\u001b[39m=\u001b[39;49mmode,\n\u001b[0;32m   3783\u001b[0m     chunksize\u001b[39m=\u001b[39;49mchunksize,\n\u001b[0;32m   3784\u001b[0m     quotechar\u001b[39m=\u001b[39;49mquotechar,\n\u001b[0;32m   3785\u001b[0m     date_format\u001b[39m=\u001b[39;49mdate_format,\n\u001b[0;32m   3786\u001b[0m     doublequote\u001b[39m=\u001b[39;49mdoublequote,\n\u001b[0;32m   3787\u001b[0m     escapechar\u001b[39m=\u001b[39;49mescapechar,\n\u001b[0;32m   3788\u001b[0m     storage_options\u001b[39m=\u001b[39;49mstorage_options,\n\u001b[0;32m   3789\u001b[0m )\n",
      "File \u001b[1;32mc:\\Users\\19928\\Desktop\\Anaconda\\envs\\Workshop_1\\lib\\site-packages\\pandas\\io\\formats\\format.py:1186\u001b[0m, in \u001b[0;36mDataFrameRenderer.to_csv\u001b[1;34m(self, path_or_buf, encoding, sep, columns, index_label, mode, compression, quoting, quotechar, lineterminator, chunksize, date_format, doublequote, escapechar, errors, storage_options)\u001b[0m\n\u001b[0;32m   1165\u001b[0m     created_buffer \u001b[39m=\u001b[39m \u001b[39mFalse\u001b[39;00m\n\u001b[0;32m   1167\u001b[0m csv_formatter \u001b[39m=\u001b[39m CSVFormatter(\n\u001b[0;32m   1168\u001b[0m     path_or_buf\u001b[39m=\u001b[39mpath_or_buf,\n\u001b[0;32m   1169\u001b[0m     lineterminator\u001b[39m=\u001b[39mlineterminator,\n\u001b[1;32m   (...)\u001b[0m\n\u001b[0;32m   1184\u001b[0m     formatter\u001b[39m=\u001b[39m\u001b[39mself\u001b[39m\u001b[39m.\u001b[39mfmt,\n\u001b[0;32m   1185\u001b[0m )\n\u001b[1;32m-> 1186\u001b[0m csv_formatter\u001b[39m.\u001b[39;49msave()\n\u001b[0;32m   1188\u001b[0m \u001b[39mif\u001b[39;00m created_buffer:\n\u001b[0;32m   1189\u001b[0m     \u001b[39massert\u001b[39;00m \u001b[39misinstance\u001b[39m(path_or_buf, StringIO)\n",
      "File \u001b[1;32mc:\\Users\\19928\\Desktop\\Anaconda\\envs\\Workshop_1\\lib\\site-packages\\pandas\\io\\formats\\csvs.py:240\u001b[0m, in \u001b[0;36mCSVFormatter.save\u001b[1;34m(self)\u001b[0m\n\u001b[0;32m    236\u001b[0m \u001b[39m\u001b[39m\u001b[39m\"\"\"\u001b[39;00m\n\u001b[0;32m    237\u001b[0m \u001b[39mCreate the writer & save.\u001b[39;00m\n\u001b[0;32m    238\u001b[0m \u001b[39m\"\"\"\u001b[39;00m\n\u001b[0;32m    239\u001b[0m \u001b[39m# apply compression and byte/text conversion\u001b[39;00m\n\u001b[1;32m--> 240\u001b[0m \u001b[39mwith\u001b[39;00m get_handle(\n\u001b[0;32m    241\u001b[0m     \u001b[39mself\u001b[39;49m\u001b[39m.\u001b[39;49mfilepath_or_buffer,\n\u001b[0;32m    242\u001b[0m     \u001b[39mself\u001b[39;49m\u001b[39m.\u001b[39;49mmode,\n\u001b[0;32m    243\u001b[0m     encoding\u001b[39m=\u001b[39;49m\u001b[39mself\u001b[39;49m\u001b[39m.\u001b[39;49mencoding,\n\u001b[0;32m    244\u001b[0m     errors\u001b[39m=\u001b[39;49m\u001b[39mself\u001b[39;49m\u001b[39m.\u001b[39;49merrors,\n\u001b[0;32m    245\u001b[0m     compression\u001b[39m=\u001b[39;49m\u001b[39mself\u001b[39;49m\u001b[39m.\u001b[39;49mcompression,\n\u001b[0;32m    246\u001b[0m     storage_options\u001b[39m=\u001b[39;49m\u001b[39mself\u001b[39;49m\u001b[39m.\u001b[39;49mstorage_options,\n\u001b[0;32m    247\u001b[0m ) \u001b[39mas\u001b[39;00m handles:\n\u001b[0;32m    248\u001b[0m     \u001b[39m# Note: self.encoding is irrelevant here\u001b[39;00m\n\u001b[0;32m    249\u001b[0m     \u001b[39mself\u001b[39m\u001b[39m.\u001b[39mwriter \u001b[39m=\u001b[39m csvlib\u001b[39m.\u001b[39mwriter(\n\u001b[0;32m    250\u001b[0m         handles\u001b[39m.\u001b[39mhandle,\n\u001b[0;32m    251\u001b[0m         lineterminator\u001b[39m=\u001b[39m\u001b[39mself\u001b[39m\u001b[39m.\u001b[39mlineterminator,\n\u001b[1;32m   (...)\u001b[0m\n\u001b[0;32m    256\u001b[0m         quotechar\u001b[39m=\u001b[39m\u001b[39mself\u001b[39m\u001b[39m.\u001b[39mquotechar,\n\u001b[0;32m    257\u001b[0m     )\n\u001b[0;32m    259\u001b[0m     \u001b[39mself\u001b[39m\u001b[39m.\u001b[39m_save()\n",
      "File \u001b[1;32mc:\\Users\\19928\\Desktop\\Anaconda\\envs\\Workshop_1\\lib\\site-packages\\pandas\\io\\common.py:859\u001b[0m, in \u001b[0;36mget_handle\u001b[1;34m(path_or_buf, mode, encoding, compression, memory_map, is_text, errors, storage_options)\u001b[0m\n\u001b[0;32m    854\u001b[0m \u001b[39melif\u001b[39;00m \u001b[39misinstance\u001b[39m(handle, \u001b[39mstr\u001b[39m):\n\u001b[0;32m    855\u001b[0m     \u001b[39m# Check whether the filename is to be opened in binary mode.\u001b[39;00m\n\u001b[0;32m    856\u001b[0m     \u001b[39m# Binary mode does not support 'encoding' and 'newline'.\u001b[39;00m\n\u001b[0;32m    857\u001b[0m     \u001b[39mif\u001b[39;00m ioargs\u001b[39m.\u001b[39mencoding \u001b[39mand\u001b[39;00m \u001b[39m\"\u001b[39m\u001b[39mb\u001b[39m\u001b[39m\"\u001b[39m \u001b[39mnot\u001b[39;00m \u001b[39min\u001b[39;00m ioargs\u001b[39m.\u001b[39mmode:\n\u001b[0;32m    858\u001b[0m         \u001b[39m# Encoding\u001b[39;00m\n\u001b[1;32m--> 859\u001b[0m         handle \u001b[39m=\u001b[39m \u001b[39mopen\u001b[39;49m(\n\u001b[0;32m    860\u001b[0m             handle,\n\u001b[0;32m    861\u001b[0m             ioargs\u001b[39m.\u001b[39;49mmode,\n\u001b[0;32m    862\u001b[0m             encoding\u001b[39m=\u001b[39;49mioargs\u001b[39m.\u001b[39;49mencoding,\n\u001b[0;32m    863\u001b[0m             errors\u001b[39m=\u001b[39;49merrors,\n\u001b[0;32m    864\u001b[0m             newline\u001b[39m=\u001b[39;49m\u001b[39m\"\u001b[39;49m\u001b[39m\"\u001b[39;49m,\n\u001b[0;32m    865\u001b[0m         )\n\u001b[0;32m    866\u001b[0m     \u001b[39melse\u001b[39;00m:\n\u001b[0;32m    867\u001b[0m         \u001b[39m# Binary mode\u001b[39;00m\n\u001b[0;32m    868\u001b[0m         handle \u001b[39m=\u001b[39m \u001b[39mopen\u001b[39m(handle, ioargs\u001b[39m.\u001b[39mmode)\n",
      "\u001b[1;31mPermissionError\u001b[0m: [Errno 13] Permission denied: 'C:/Users/19928/Desktop/Projects/Project-1/Code/game.csv'"
     ]
    }
   ],
   "source": [
    "import pandas as pd\n",
    "\n",
    "# Read the pkl file\n",
    "#data = pd.read_pickle('C:/Users/19928/Desktop/Projects/Project-1/Code/game_data.pkl')\n",
    "\n",
    "# Write the data from the pkl file to the csv file\n",
    "#data.to_csv('C:/Users/19928/Desktop/Projects/Project-1/Code/game.csv', index=False, encoding='utf-8-sig')"
   ]
  },
  {
   "cell_type": "code",
   "execution_count": 5,
   "id": "d42d767e",
   "metadata": {},
   "outputs": [
    {
     "data": {
      "text/html": [
       "<div>\n",
       "<style scoped>\n",
       "    .dataframe tbody tr th:only-of-type {\n",
       "        vertical-align: middle;\n",
       "    }\n",
       "\n",
       "    .dataframe tbody tr th {\n",
       "        vertical-align: top;\n",
       "    }\n",
       "\n",
       "    .dataframe thead th {\n",
       "        text-align: right;\n",
       "    }\n",
       "</style>\n",
       "<table border=\"1\" class=\"dataframe\">\n",
       "  <thead>\n",
       "    <tr style=\"text-align: right;\">\n",
       "      <th></th>\n",
       "      <th>AppID</th>\n",
       "      <th>Name</th>\n",
       "      <th>About the game</th>\n",
       "      <th>Categories</th>\n",
       "      <th>Genres</th>\n",
       "      <th>Tags</th>\n",
       "    </tr>\n",
       "  </thead>\n",
       "  <tbody>\n",
       "    <tr>\n",
       "      <th>0</th>\n",
       "      <td>2525270</td>\n",
       "      <td>The House</td>\n",
       "      <td>' The House ' is a short psychological horror ...</td>\n",
       "      <td>Single-player,Steam Workshop</td>\n",
       "      <td>Adventure,Casual,Indie</td>\n",
       "      <td>Adventure,Casual,Action-Adventure,Walking Simu...</td>\n",
       "    </tr>\n",
       "    <tr>\n",
       "      <th>1</th>\n",
       "      <td>2414640</td>\n",
       "      <td>Bite Size Terrors: Erobos Heaven</td>\n",
       "      <td>Bite Size Terrors: Are Short Experimental Horr...</td>\n",
       "      <td>Single-player,Steam Achievements</td>\n",
       "      <td>Adventure,Indie</td>\n",
       "      <td>Horror,Adventure,Atmospheric,Psychological Hor...</td>\n",
       "    </tr>\n",
       "    <tr>\n",
       "      <th>2</th>\n",
       "      <td>2486670</td>\n",
       "      <td>TD Tower Defense</td>\n",
       "      <td>Td Tower Defense is a fun tower defense shoote...</td>\n",
       "      <td>Single-player</td>\n",
       "      <td>Action,Casual</td>\n",
       "      <td>Tower Defense,Casual,Sci-fi,Strategy,Combat,Re...</td>\n",
       "    </tr>\n",
       "    <tr>\n",
       "      <th>3</th>\n",
       "      <td>2304650</td>\n",
       "      <td>The Scrap</td>\n",
       "      <td>The Scrap is an independent third-person shoot...</td>\n",
       "      <td>Single-player,Steam Achievements</td>\n",
       "      <td>Action,Adventure,Indie</td>\n",
       "      <td>Action,Shooter,Third-Person Shooter,3D,Third P...</td>\n",
       "    </tr>\n",
       "    <tr>\n",
       "      <th>4</th>\n",
       "      <td>2519670</td>\n",
       "      <td>Wind Love</td>\n",
       "      <td>Gameplay Wind Love - is a Japanese-style visua...</td>\n",
       "      <td>Single-player,Steam Achievements,Captions avai...</td>\n",
       "      <td>Indie,Simulation</td>\n",
       "      <td>Hentai,Adventure,Dating Sim,Casual,Choices Mat...</td>\n",
       "    </tr>\n",
       "  </tbody>\n",
       "</table>\n",
       "</div>"
      ],
      "text/plain": [
       "     AppID                              Name  \\\n",
       "0  2525270                         The House   \n",
       "1  2414640  Bite Size Terrors: Erobos Heaven   \n",
       "2  2486670                  TD Tower Defense   \n",
       "3  2304650                         The Scrap   \n",
       "4  2519670                         Wind Love   \n",
       "\n",
       "                                      About the game  \\\n",
       "0  ' The House ' is a short psychological horror ...   \n",
       "1  Bite Size Terrors: Are Short Experimental Horr...   \n",
       "2  Td Tower Defense is a fun tower defense shoote...   \n",
       "3  The Scrap is an independent third-person shoot...   \n",
       "4  Gameplay Wind Love - is a Japanese-style visua...   \n",
       "\n",
       "                                          Categories                  Genres  \\\n",
       "0                       Single-player,Steam Workshop  Adventure,Casual,Indie   \n",
       "1                   Single-player,Steam Achievements         Adventure,Indie   \n",
       "2                                      Single-player           Action,Casual   \n",
       "3                   Single-player,Steam Achievements  Action,Adventure,Indie   \n",
       "4  Single-player,Steam Achievements,Captions avai...        Indie,Simulation   \n",
       "\n",
       "                                                Tags  \n",
       "0  Adventure,Casual,Action-Adventure,Walking Simu...  \n",
       "1  Horror,Adventure,Atmospheric,Psychological Hor...  \n",
       "2  Tower Defense,Casual,Sci-fi,Strategy,Combat,Re...  \n",
       "3  Action,Shooter,Third-Person Shooter,3D,Third P...  \n",
       "4  Hentai,Adventure,Dating Sim,Casual,Choices Mat...  "
      ]
     },
     "execution_count": 5,
     "metadata": {},
     "output_type": "execute_result"
    }
   ],
   "source": [
    "games_data=pd.read_csv('C:/Users/19928/Desktop/Projects/Project-1/Code/game.csv')\n",
    "games_data.head()"
   ]
  },
  {
   "cell_type": "code",
   "execution_count": 6,
   "id": "45c019fb",
   "metadata": {},
   "outputs": [],
   "source": [
    "games_data=games_data[['AppID','Name','About the game','Categories','Genres','Tags']]"
   ]
  },
  {
   "cell_type": "code",
   "execution_count": 7,
   "id": "0e59c55e",
   "metadata": {},
   "outputs": [
    {
     "name": "stderr",
     "output_type": "stream",
     "text": [
      "C:\\Users\\19928\\AppData\\Local\\Temp\\ipykernel_32096\\2264921797.py:17: SettingWithCopyWarning: \n",
      "A value is trying to be set on a copy of a slice from a DataFrame.\n",
      "Try using .loc[row_indexer,col_indexer] = value instead\n",
      "\n",
      "See the caveats in the documentation: https://pandas.pydata.org/pandas-docs/stable/user_guide/indexing.html#returning-a-view-versus-a-copy\n",
      "  new_df['tags']=new_df['tags'].apply(lambda x:\" \".join(x))\n",
      "C:\\Users\\19928\\AppData\\Local\\Temp\\ipykernel_32096\\2264921797.py:18: SettingWithCopyWarning: \n",
      "A value is trying to be set on a copy of a slice from a DataFrame.\n",
      "Try using .loc[row_indexer,col_indexer] = value instead\n",
      "\n",
      "See the caveats in the documentation: https://pandas.pydata.org/pandas-docs/stable/user_guide/indexing.html#returning-a-view-versus-a-copy\n",
      "  new_df['tags']=new_df['tags'].apply(lambda x:x.lower())\n",
      "C:\\Users\\19928\\AppData\\Local\\Temp\\ipykernel_32096\\2264921797.py:27: SettingWithCopyWarning: \n",
      "A value is trying to be set on a copy of a slice from a DataFrame.\n",
      "Try using .loc[row_indexer,col_indexer] = value instead\n",
      "\n",
      "See the caveats in the documentation: https://pandas.pydata.org/pandas-docs/stable/user_guide/indexing.html#returning-a-view-versus-a-copy\n",
      "  new_df['tags']=new_df['tags'].apply(stem)\n"
     ]
    }
   ],
   "source": [
    "#Natural language processing\n",
    "new_games_data=pd.DataFrame(games_data)\n",
    "#字符串按空格进行分割\n",
    "new_games_data['Genres']=new_games_data['Genres'].apply(lambda x:x.split())\n",
    "new_games_data['Categories']=new_games_data['Categories'].apply(lambda x:x.split())\n",
    "new_games_data['Tags']=new_games_data['Tags'].apply(lambda x:x.split())\n",
    "new_games_data['About the game']=new_games_data['About the game'].apply(lambda x:x.split())\n",
    "#移除三列中的空格\n",
    "new_games_data['Categories']=new_games_data['Categories'].apply(lambda x:[i.replace(\" \",\"\") for i in x])\n",
    "new_games_data['Genres']=new_games_data['Genres'].apply(lambda x:[i.replace(\" \",\"\") for i in x])\n",
    "new_games_data['Tags']=new_games_data['Tags'].apply(lambda x:[i.replace(\" \",\"\") for i in x])\n",
    "#形成新列\n",
    "new_games_data['tags']=new_games_data['About the game'] + new_games_data['Categories'] + new_games_data['Genres'] + new_games_data['Tags']\n",
    "#形成新Dataframe\n",
    "new_df=new_games_data[['AppID','Name','tags']]\n",
    "#小写并通过空格连接\n",
    "new_df['tags']=new_df['tags'].apply(lambda x:\" \".join(x))\n",
    "new_df['tags']=new_df['tags'].apply(lambda x:x.lower())\n",
    "#词干提取\n",
    "from nltk.stem.porter import PorterStemmer\n",
    "ps= PorterStemmer()\n",
    "def stem(text):\n",
    "  y=[]\n",
    "  for i in text.split():\n",
    "    y.append(ps.stem(i))\n",
    "  return \" \".join(y)\n",
    "new_df['tags']=new_df['tags'].apply(stem)"
   ]
  },
  {
   "cell_type": "code",
   "execution_count": 9,
   "id": "09eed225",
   "metadata": {},
   "outputs": [
    {
     "name": "stdout",
     "output_type": "stream",
     "text": [
      "(18560, 5000)\n"
     ]
    }
   ],
   "source": [
    "#计数向量,每个单词在每一个tags字段是否出现，是：1，否;0\n",
    "from sklearn.feature_extraction.text import CountVectorizer\n",
    "cv=CountVectorizer(max_features=5000,stop_words='english')\n",
    "vectors=cv.fit_transform(new_df['tags']).toarray()\n",
    "print(vectors.shape)"
   ]
  },
  {
   "cell_type": "code",
   "execution_count": 10,
   "id": "8ae07366",
   "metadata": {},
   "outputs": [
    {
     "name": "stdout",
     "output_type": "stream",
     "text": [
      "(18560, 18560)\n"
     ]
    }
   ],
   "source": [
    "#计算相似度矩阵\n",
    "from sklearn.metrics.pairwise import cosine_similarity\n",
    "similarity=cosine_similarity(vectors)\n",
    "def recommend(game):\n",
    "    index = new_df[new_df['Name'] == game].index[0]\n",
    "    distances = sorted(list(enumerate(similarity[index])),reverse=True,key = lambda x: x[1])\n",
    "    for i in distances[1:6]:\n",
    "        print(new_df.iloc[i[0]].Name)\n",
    "print(similarity.shape)"
   ]
  },
  {
   "cell_type": "code",
   "execution_count": 11,
   "id": "d58a1732",
   "metadata": {},
   "outputs": [
    {
     "name": "stdout",
     "output_type": "stream",
     "text": [
      "[1.         0.30961358 0.07803185 ... 0.36006607 0.15886771 0.17282528]\n"
     ]
    }
   ],
   "source": [
    "first_row = similarity[0]\n",
    "print(first_row)"
   ]
  },
  {
   "cell_type": "code",
   "execution_count": 13,
   "id": "e6799ce0",
   "metadata": {},
   "outputs": [
    {
     "name": "stdout",
     "output_type": "stream",
     "text": [
      "Oh, Dungeon Master\n",
      "Senpai and the Mysterious Dungeon\n",
      "Into The Dark\n",
      "Ouroboros Dungeon\n",
      "Archmage Ricka\n"
     ]
    }
   ],
   "source": [
    "recommend('erozld')"
   ]
  },
  {
   "cell_type": "code",
   "execution_count": 14,
   "id": "44490e7a",
   "metadata": {},
   "outputs": [],
   "source": [
    "save_path = 'C:/Users/19928/Desktop/Projects/Project-1/Code/similarity.pkl'\n",
    "pickle.dump(similarity, open(save_path, 'wb'))"
   ]
  },
  {
   "cell_type": "code",
   "execution_count": null,
   "id": "646b93d6",
   "metadata": {},
   "outputs": [],
   "source": []
  }
 ],
 "metadata": {
  "kernelspec": {
   "display_name": "Python 3 (ipykernel)",
   "language": "python",
   "name": "python3"
  },
  "language_info": {
   "codemirror_mode": {
    "name": "ipython",
    "version": 3
   },
   "file_extension": ".py",
   "mimetype": "text/x-python",
   "name": "python",
   "nbconvert_exporter": "python",
   "pygments_lexer": "ipython3",
   "version": "3.10.12"
  }
 },
 "nbformat": 4,
 "nbformat_minor": 5
}
